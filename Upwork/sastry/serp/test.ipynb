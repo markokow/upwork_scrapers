{
 "cells": [
  {
   "cell_type": "code",
   "execution_count": 12,
   "metadata": {},
   "outputs": [],
   "source": [
    "from boilerpy3 import extractors\n",
    "\n",
    "extractor = extractors.CanolaExtractor()\n",
    "\n",
    "doc = extractor.get_doc_from_url('https://krishijagran.com/agripedia/complete-guide-to-chickpeas-farming-varieties-climate-requirement-harvesting-yield-and-economics/')\n",
    "page_title = doc.title\n",
    "page_contents = doc.content\n",
    "\n",
    "# print(page_title, end = \"\\n\\n\")\n",
    "# print(page_contents)"
   ]
  },
  {
   "cell_type": "code",
   "execution_count": 20,
   "metadata": {},
   "outputs": [],
   "source": [
    "# page_contents\n",
    "with open(f\"test.txt\", \"w\") as text_file:\n",
    "    text_file.write(page_contents)"
   ]
  },
  {
   "cell_type": "code",
   "execution_count": 27,
   "metadata": {},
   "outputs": [
    {
     "data": {
      "text/plain": [
       "True"
      ]
     },
     "execution_count": 27,
     "metadata": {},
     "output_type": "execute_result"
    }
   ],
   "source": [
    "\"Manure\".lower() in doc.content.lower()"
   ]
  }
 ],
 "metadata": {
  "kernelspec": {
   "display_name": "Python 3.10.0 64-bit ('my-310-python')",
   "language": "python",
   "name": "python3"
  },
  "language_info": {
   "codemirror_mode": {
    "name": "ipython",
    "version": 3
   },
   "file_extension": ".py",
   "mimetype": "text/x-python",
   "name": "python",
   "nbconvert_exporter": "python",
   "pygments_lexer": "ipython3",
   "version": "3.10.0"
  },
  "orig_nbformat": 4,
  "vscode": {
   "interpreter": {
    "hash": "2b3bb99980cd1899609251835e8ee118aac69fc41d50e1d837cb4cbf5981910f"
   }
  }
 },
 "nbformat": 4,
 "nbformat_minor": 2
}
