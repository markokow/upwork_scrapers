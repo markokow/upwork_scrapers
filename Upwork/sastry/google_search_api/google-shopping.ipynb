{
 "cells": [
  {
   "cell_type": "code",
   "execution_count": 70,
   "metadata": {},
   "outputs": [],
   "source": [
    "from re import S\n",
    "from selenium import webdriver\n",
    "import time\n",
    "import pandas as pd\n",
    "  \n",
    "\n",
    "\n",
    "df = pd.read_csv(\"QData.csv\", encoding='latin-1')\n",
    "search = df[\"item\"] + \" quorum\"\n",
    "\n"
   ]
  },
  {
   "cell_type": "code",
   "execution_count": 71,
   "metadata": {},
   "outputs": [],
   "source": [
    "search = search.to_list()"
   ]
  },
  {
   "cell_type": "code",
   "execution_count": 72,
   "metadata": {},
   "outputs": [
    {
     "data": {
      "text/plain": [
       "3608"
      ]
     },
     "execution_count": 72,
     "metadata": {},
     "output_type": "execute_result"
    }
   ],
   "source": [
    "len(search)"
   ]
  },
  {
   "cell_type": "code",
   "execution_count": 73,
   "metadata": {},
   "outputs": [],
   "source": [
    "test= search[1]"
   ]
  },
  {
   "cell_type": "code",
   "execution_count": 74,
   "metadata": {},
   "outputs": [
    {
     "name": "stderr",
     "output_type": "stream",
     "text": [
      "<ipython-input-74-5022f8c557b2>:9: DeprecationWarning: use options instead of chrome_options\n",
      "  driver = webdriver.Chrome(executable_path=\"chromedriver\",\n"
     ]
    }
   ],
   "source": [
    "from selenium import webdriver\n",
    "\n",
    "options = webdriver.ChromeOptions()\n",
    "options.add_argument(\"--start-maximized\")\n",
    "options.add_argument('--log-level=3')\n",
    "\n",
    "\n",
    "# Provide the path of chromedriver present on your system.\n",
    "driver = webdriver.Chrome(executable_path=\"chromedriver\",\n",
    "                            chrome_options=options)\n",
    "driver.set_window_size(1920,1080)\n",
    "\n",
    "# Send a get request to the url\n",
    "driver.get(f'https://www.google.com/search?hl=en&gl=us&tbm=shop&psb=1&q={test}')\n",
    "elements = driver.find_elements_by_class_name(\"Xjkr3b\")"
   ]
  },
  {
   "cell_type": "code",
   "execution_count": 75,
   "metadata": {},
   "outputs": [
    {
     "name": "stdout",
     "output_type": "stream",
     "text": [
      "Quorum International 11525-4 Blade Custom SERS Fan, 52\n",
      "Quorum 11525-4 52 - Blade Custm Sers Fan- Antique Brass Ceiling Fans - Antique Brass\n"
     ]
    }
   ],
   "source": [
    "for _ in elements:\n",
    "    if test.split()[0] in _.text:\n",
    "        print(_.text)"
   ]
  }
 ],
 "metadata": {
  "kernelspec": {
   "display_name": "Python 3.10.0 64-bit ('my-310-python')",
   "language": "python",
   "name": "python3"
  },
  "language_info": {
   "codemirror_mode": {
    "name": "ipython",
    "version": 3
   },
   "file_extension": ".py",
   "mimetype": "text/x-python",
   "name": "python",
   "nbconvert_exporter": "python",
   "pygments_lexer": "ipython3",
   "version": "3.10.0"
  },
  "orig_nbformat": 4,
  "vscode": {
   "interpreter": {
    "hash": "2b3bb99980cd1899609251835e8ee118aac69fc41d50e1d837cb4cbf5981910f"
   }
  }
 },
 "nbformat": 4,
 "nbformat_minor": 2
}
