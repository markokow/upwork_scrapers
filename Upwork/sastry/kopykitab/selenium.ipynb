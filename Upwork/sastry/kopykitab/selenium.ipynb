{
 "cells": [
  {
   "cell_type": "code",
   "execution_count": null,
   "metadata": {},
   "outputs": [],
   "source": [
    "from selenium import webdriver\n",
    "from selenium.webdriver.common.keys import Keys\n",
    "\n",
    "# chromedriver = 'C:\\\\chrom\n",
    "# edriver.exe'\n",
    "browser = webdriver.Firefox(executable_path=\"/Users/rexlopper/Desktop/upwork_scraper/upwork_scrapers/Upwork/sastry/kopykitab/geckodriver\")"
   ]
  },
  {
   "cell_type": "code",
   "execution_count": null,
   "metadata": {},
   "outputs": [],
   "source": [
    "LOGIN_URL = \"https://www.kopykitab.com/index.php?route=account/login\""
   ]
  },
  {
   "cell_type": "code",
   "execution_count": null,
   "metadata": {},
   "outputs": [],
   "source": [
    "browser.get(LOGIN_URL)"
   ]
  },
  {
   "cell_type": "code",
   "execution_count": null,
   "metadata": {},
   "outputs": [],
   "source": [
    "USERNAME = \"risinghunks@gmail.com\"\n",
    "PASSWORD = \"Poranki@135\""
   ]
  },
  {
   "cell_type": "code",
   "execution_count": null,
   "metadata": {},
   "outputs": [],
   "source": [
    "elem = browser.find_element_by_name('email')\n",
    "elem.clear()\n",
    "elem.send_keys(USERNAME)"
   ]
  },
  {
   "cell_type": "code",
   "execution_count": null,
   "metadata": {},
   "outputs": [],
   "source": [
    "import time\n",
    "elem = browser.find_element_by_name('password')\n",
    "elem.clear()\n",
    "elem.send_keys(PASSWORD)\n",
    "time.sleep(5)"
   ]
  },
  {
   "cell_type": "code",
   "execution_count": null,
   "metadata": {},
   "outputs": [],
   "source": [
    "# elem.send_keys(Keys.RETURN)\n",
    "elem = browser.find_element_by_css_selector('.form_button')\n",
    "elem.click()\n"
   ]
  },
  {
   "cell_type": "code",
   "execution_count": null,
   "metadata": {},
   "outputs": [],
   "source": [
    "browser.get('https://www.kopykitab.com/index.php?route=pdfviewer/view&product_id=30816')"
   ]
  },
  {
   "cell_type": "code",
   "execution_count": null,
   "metadata": {},
   "outputs": [],
   "source": [
    "import json\n",
    "chrome_options = webdriver.ChromeOptions()\n",
    "settings = {\n",
    "       \"recentDestinations\": [{\n",
    "            \"id\": \"Save as PDF\",\n",
    "            \"origin\": \"local\",\n",
    "            \"account\": \"\",\n",
    "        }],\n",
    "        \"selectedDestinationId\": \"Save as PDF\",\n",
    "        \"version\": 2\n",
    "    }\n",
    "prefs = {'printing.print_preview_sticky_settings.appState': json.dumps(settings)}\n",
    "chrome_options.add_experimental_option('prefs', prefs)\n",
    "chrome_options.add_argument('--kiosk-printing')"
   ]
  },
  {
   "cell_type": "code",
   "execution_count": null,
   "metadata": {},
   "outputs": [],
   "source": [
    "\n",
    "from selenium.webdriver.common.action_chains import ActionChains\n",
    "action = ActionChains(browser)"
   ]
  },
  {
   "cell_type": "code",
   "execution_count": null,
   "metadata": {},
   "outputs": [],
   "source": [
    "import pyautogui\n"
   ]
  },
  {
   "cell_type": "code",
   "execution_count": null,
   "metadata": {},
   "outputs": [],
   "source": [
    "time.sleep(2)\n",
    "\n",
    "# pyautogui.hotkey('ctrl', '0')\n",
    "pyautogui.click(100,200)\n",
    "pyautogui.hotkey('ctrl', 'command', 'f')\n",
    "time.sleep(2)\n",
    "pyautogui.click(100,200)\n",
    "# pyautogui.hotkey('ctrl', '+')\n",
    "pyautogui.click(1450,134)\n",
    "time.sleep(3)\n",
    "for i in range(0, 13):\n",
    "    time.sleep(1)\n",
    "    browser.save_screenshot(f\"images/image_{i+1}.png\")\n",
    "    pyautogui.click(781,630)\n",
    "pyautogui.hotkey('esc')\n",
    "\n",
    "\n",
    "\n",
    "# action.send_keys(Keys.CONTROL, 0).perform()\n",
    "# action.send_keys(Keys.CONTROL, \"9\").perform()\n",
    "# action.send_keys(Keys.DOWN).perform()\n",
    "# for i in range(0,5):\n",
    "#     action.send_keys(Keys.DOWN).perform()"
   ]
  },
  {
   "cell_type": "markdown",
   "metadata": {},
   "source": []
  },
  {
   "cell_type": "code",
   "execution_count": null,
   "metadata": {},
   "outputs": [],
   "source": [
    "import glob\n",
    "files = glob.glob(\"images/*\")"
   ]
  },
  {
   "cell_type": "code",
   "execution_count": null,
   "metadata": {},
   "outputs": [],
   "source": [
    "# from fpdf import FPDF\n",
    "# pdf = FPDF()\n",
    "# # imagelist is the list with all image filenames\n",
    "# for image in files:\n",
    "#     pdf.add_page()\n",
    "#     pdf.image(image,0,0,210,297)\n",
    "# pdf.output(\"sastry.pdf\", \"F\")"
   ]
  }
 ],
 "metadata": {
  "kernelspec": {
   "display_name": "Python 3.10.0 64-bit ('my-310-python')",
   "language": "python",
   "name": "python3"
  },
  "language_info": {
   "codemirror_mode": {
    "name": "ipython",
    "version": 3
   },
   "file_extension": ".py",
   "mimetype": "text/x-python",
   "name": "python",
   "nbconvert_exporter": "python",
   "pygments_lexer": "ipython3",
   "version": "3.10.0"
  },
  "orig_nbformat": 4,
  "vscode": {
   "interpreter": {
    "hash": "2b3bb99980cd1899609251835e8ee118aac69fc41d50e1d837cb4cbf5981910f"
   }
  }
 },
 "nbformat": 4,
 "nbformat_minor": 2
}
