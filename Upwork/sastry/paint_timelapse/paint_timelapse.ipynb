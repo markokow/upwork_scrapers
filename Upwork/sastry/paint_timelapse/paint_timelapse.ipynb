{
 "cells": [
  {
   "cell_type": "code",
   "execution_count": 6,
   "metadata": {},
   "outputs": [],
   "source": [
    "import cv2 \n",
    "import pyautogui\n",
    "import time\n",
    "import numpy as np\n",
    "img = cv2.imread('example2.0c7da828.png')"
   ]
  },
  {
   "cell_type": "code",
   "execution_count": 7,
   "metadata": {},
   "outputs": [],
   "source": [
    "res = cv2.xphoto.oilPainting(img, 2, 1)"
   ]
  },
  {
   "cell_type": "code",
   "execution_count": 8,
   "metadata": {},
   "outputs": [
    {
     "data": {
      "text/plain": [
       "True"
      ]
     },
     "execution_count": 8,
     "metadata": {},
     "output_type": "execute_result"
    }
   ],
   "source": [
    "\n",
    "cv2.imwrite(\"res.png\", res)"
   ]
  },
  {
   "cell_type": "code",
   "execution_count": 9,
   "metadata": {},
   "outputs": [
    {
     "data": {
      "text/plain": [
       "(711, 500, 3)"
      ]
     },
     "execution_count": 9,
     "metadata": {},
     "output_type": "execute_result"
    }
   ],
   "source": [
    "res.shape"
   ]
  },
  {
   "cell_type": "code",
   "execution_count": 10,
   "metadata": {},
   "outputs": [],
   "source": [
    "total = []\n",
    "for idx, _ in enumerate(res):\n",
    "    if idx == 0:\n",
    "        total = _.tolist()\n",
    "    else:\n",
    "        total = total + _.tolist()"
   ]
  },
  {
   "cell_type": "code",
   "execution_count": 11,
   "metadata": {},
   "outputs": [
    {
     "data": {
      "text/plain": [
       "355500"
      ]
     },
     "execution_count": 11,
     "metadata": {},
     "output_type": "execute_result"
    }
   ],
   "source": [
    "len(total)"
   ]
  },
  {
   "cell_type": "code",
   "execution_count": 12,
   "metadata": {},
   "outputs": [],
   "source": [
    "colors = np.unique(total, axis=0)"
   ]
  },
  {
   "cell_type": "code",
   "execution_count": 24,
   "metadata": {},
   "outputs": [
    {
     "data": {
      "text/plain": [
       "Point(x=270, y=230)"
      ]
     },
     "execution_count": 24,
     "metadata": {},
     "output_type": "execute_result"
    }
   ],
   "source": [
    "pyautogui.position()"
   ]
  },
  {
   "cell_type": "code",
   "execution_count": 14,
   "metadata": {},
   "outputs": [],
   "source": [
    "\n",
    "def choose_color(red, green, blue):\n",
    "    # time.sleep(3)\n",
    "    pick_custom_color = (960, 101)\n",
    "    edit_colors_position = (994, 64)\n",
    "\n",
    "    pyautogui.click(edit_colors_position)\n",
    "    pyautogui.click((1162, 593))\n",
    "    pyautogui.hotkey('ctrl', 'a')   \n",
    "    pyautogui.press(red)\n",
    "    pyautogui.click((1145, 616))\n",
    "    pyautogui.hotkey('ctrl', 'a')\n",
    "    pyautogui.press(green)\n",
    "    pyautogui.click((1155, 632))\n",
    "    pyautogui.hotkey('ctrl', 'a')\n",
    "    pyautogui.press(blue)\n",
    "    pyautogui.press('enter')\n",
    "    # time.sleep(.5)\n",
    "    # pyautogui.click(add_custom_color)\n",
    "    # time.sleep(.5)\n",
    "    # pyautogui.click(click_ok)\n",
    "    # time.sleep(.5)\n",
    "    pyautogui.click(pick_custom_color)\n"
   ]
  },
  {
   "cell_type": "code",
   "execution_count": null,
   "metadata": {},
   "outputs": [],
   "source": [
    "\n",
    "offset = [4, 144]\n",
    "time.sleep(3)\n",
    "for clr in colors: \n",
    "    # color = clr.tolist()    \n",
    "    color = clr    \n",
    "    red = list(str(color[-1]))\n",
    "    green = list(str(color[1]))\n",
    "    blue = list(str(color[0]))\n",
    "    choose_color(red, green, blue)\n",
    "    for i in range(0, len(res)):\n",
    "        for j in range(0, len(res[0])):     \n",
    "            if all(res[i][j] == clr):\n",
    "                # break\n",
    "                pyautogui.click((j+1+offset[0],i+1+offset[-1]))\n",
    "        # break\n",
    "\n"
   ]
  },
  {
   "cell_type": "code",
   "execution_count": null,
   "metadata": {},
   "outputs": [],
   "source": [
    "len(res[0])"
   ]
  },
  {
   "cell_type": "code",
   "execution_count": null,
   "metadata": {},
   "outputs": [],
   "source": [
    "time.sleep(3)\n",
    "pyautogui.click((200,200))"
   ]
  },
  {
   "cell_type": "code",
   "execution_count": null,
   "metadata": {},
   "outputs": [],
   "source": [
    "# # cv2.imshow(\"original\", img)\n",
    "# cv2.imshow(\"res\", res)\n",
    "# cv2.waitKey(0)\n",
    "# cv2.destroyAllWindows()"
   ]
  }
 ],
 "metadata": {
  "kernelspec": {
   "display_name": "Python 3.10.7 ('upwork_env')",
   "language": "python",
   "name": "python3"
  },
  "language_info": {
   "codemirror_mode": {
    "name": "ipython",
    "version": 3
   },
   "file_extension": ".py",
   "mimetype": "text/x-python",
   "name": "python",
   "nbconvert_exporter": "python",
   "pygments_lexer": "ipython3",
   "version": "3.10.7"
  },
  "orig_nbformat": 4,
  "vscode": {
   "interpreter": {
    "hash": "f554d777ad2c46224bcea8df90fcb3a65b2c59840b1a8e3c1e9af690075fc6e3"
   }
  }
 },
 "nbformat": 4,
 "nbformat_minor": 2
}
