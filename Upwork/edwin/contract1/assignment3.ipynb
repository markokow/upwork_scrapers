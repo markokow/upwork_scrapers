{
 "cells": [
  {
   "cell_type": "markdown",
   "metadata": {},
   "source": [
    "Before you turn this problem in, make sure everything runs as expected. First, **restart the kernel** (in the menu bar, select Kernel$\\rightarrow$Restart) and then **run all cells** (in the menu bar, select Cell$\\rightarrow$Run All).\n",
    "\n",
    "Below, please fill in your name and collaborators:"
   ]
  },
  {
   "cell_type": "code",
   "execution_count": null,
   "metadata": {},
   "outputs": [],
   "source": [
    "NAME = \"\"\n",
    "COLLABORATORS = \"\""
   ]
  },
  {
   "cell_type": "markdown",
   "metadata": {},
   "source": [
    "# Assignment 3 - Time Series Analysis\n",
    "**(15 points total)**"
   ]
  },
  {
   "cell_type": "markdown",
   "metadata": {},
   "source": [
    "## Assignment tasks:"
   ]
  },
  {
   "cell_type": "markdown",
   "metadata": {},
   "source": [
    "In this assignment you will conduct time series analysis of the financial data. \n",
    "\n",
    "1. Setup your environment to access and download latest stock data. Please see instructions below for different tools you can use to get the data. You can use any of the options provided, either Quandl or Yahoo Finance. If you know of any other service to download the data, please use that service, provide an explanation in the comments.\n",
    "\n",
    "2. *(2 points)* Download the **adjusted** close prices for FB, MMM, IBM and AMZN for the last 60 months. If you run into any issues downloading the data from online sources, you can use `.csv` files provided. This will not affect your grade for the assignment.\n",
    "\n",
    "3. *(3 points)* Resample the data to get prices for the end of the **business** month. Select the **Adjusted Close** for each stock.\n",
    "\n",
    "4. *(3 points)* Use the pandas `autocorrelation_plot()` function to plot the autocorrelation of the adjusted month-end close prices for each of the stocks.\n",
    "    - Are they autocorrelated?\n",
    "    - Provide short explanation.\n",
    "\n",
    "5. *(4 points)* \n",
    "    - Calculate the monthly returns for each stock using the \"shift trick\" explained in the lecture, using `shift()` function. \n",
    "    - Use pandas `autotocorrelation_plot()` to plot the autocorrelation of the monthly returns.\n",
    "    - Are the returns autocorrelated? Provide short explanation.\n",
    "\n",
    "6. *(3 points)*\n",
    "    - Combine all 4 time series (returns) into a single DataFrame,\n",
    "    - Visualize the correlation between the returns of all pairs of stocks using a scatter plot matrix (use `scatter_matrix()` function from `pandas.plotting`).\n",
    "    - Explain the results. Is there any correlation?\n",
    "\n",
    "**NOTES:** \n",
    "1. In this assignment, please make sure the DataFrame(s) do not contain any NAs before you plot autocorrelations or scatter matrix.\n",
    "2. Both options explained below use `pandas-datareader` package for remote data access. To install it, type the following in a command window: `conda install pandas-datareader`. You will also need to install one or more of the following packages `fix_yahoo_finance`, `quandl`. See below.\n",
    "\n",
    "---------"
   ]
  },
  {
   "cell_type": "markdown",
   "metadata": {},
   "source": [
    "## Downloading Stock Prices"
   ]
  },
  {
   "cell_type": "markdown",
   "metadata": {},
   "source": [
    "### Option 1 - Using QUANDL"
   ]
  },
  {
   "cell_type": "markdown",
   "metadata": {},
   "source": [
    "To use QUANDL service, you need to create an account and get an API Key. Here is the short description of steps:\n",
    "\n",
    "- Go to https://www.quandl.com/\n",
    "- Click either `sign up` at the top right corner of the home page, or scroll all the way down and click `Create Free Account` button at the bottom of the page.\n",
    "- Create an account. \n",
    "- You will receive an email to the email address you have used during the registration. Confirm your email.\n",
    "\n",
    "You are all set.\n",
    "\n",
    "Now, as you login into your account, click the avatar icon at the top right corner of the page, select `\"Account Settings.\"`\n",
    "On the next page, you will see `Your API Key` field with a long string of numbers and characters underneath. You need this API key for your call to Quandl from the notebook. In the code below, replace `YOUR_API_KEY` with the actual API key from your account. \n",
    "\n",
    "**NOTE**: You can remove this key before submitting the assignment."
   ]
  },
  {
   "cell_type": "code",
   "execution_count": 7,
   "metadata": {},
   "outputs": [],
   "source": [
    "# all imports and env variables\n",
    "import pandas as pd\n",
    "pd.core.common.is_list_like = pd.api.types.is_list_like\n",
    "import datetime\n",
    "import pandas_datareader.data as web\n",
    "\n",
    "# This line of code should work on Windows and Mac\n",
    "#%env QUANDL_API_KEY = \"YOUR_API_KEY\"\n",
    "\n",
    "# If the above line of code does not work on your system,\n",
    "# You can use this way of setting Quandl env variable\n",
    "import quandl\n",
    "quandl.ApiConfig.api_key = \"A7LHyXNXL_HekYdeMsHM\""
   ]
  },
  {
   "cell_type": "code",
   "execution_count": 8,
   "metadata": {},
   "outputs": [
    {
     "name": "stdout",
     "output_type": "stream",
     "text": [
      "Start date is 2017-07-24\n",
      "End date is 2022-07-24\n"
     ]
    }
   ],
   "source": [
    "## TYPE YOUE CODE BELOW\n",
    "\n",
    "from datetime import date\n",
    "from dateutil.relativedelta import relativedelta\n",
    "from typing import List\n",
    "\n",
    "months_ago: int = 60\n",
    "\n",
    "start = date.today() + relativedelta(months=-months_ago)\n",
    "end = date.today()\n",
    "\n",
    "all_stocks_list = ['FB', 'MMM', 'IBM', 'AMZN']\n",
    "df_list: List = []\n",
    "\n",
    "print(f\"Start date is {start}\")\n",
    "print(f\"End date is {end}\")\n",
    "\n",
    "for name in all_stocks_list:\n",
    "    df = web.DataReader(name, 'quandl', start, end, api_key = 'A7LHyXNXL_HekYdeMsHM')\n",
    "    df.name = name\n",
    "    df_list.append(df)"
   ]
  },
  {
   "cell_type": "code",
   "execution_count": 9,
   "metadata": {},
   "outputs": [],
   "source": [
    "fb_df = df_list[0]"
   ]
  },
  {
   "cell_type": "markdown",
   "metadata": {},
   "source": [
    "# Resampling data for AMAZON, FB, IBM, MMM and selecting Adjusted Close for each"
   ]
  },
  {
   "cell_type": "code",
   "execution_count": null,
   "metadata": {
    "scrolled": true
   },
   "outputs": [],
   "source": [
    "adjusted_close_list: List = []\n",
    "import time\n",
    "\n",
    "for df in df_list:\n",
    "    name = df.name\n",
    "    if 'Date' not in df.columns:\n",
    "        df['Date'] = df.index\n",
    "    df = df.reset_index(drop=True)\n",
    "    df['Date'] = pd.to_datetime(df['Date'])  # converting string date to datetime date for Date column\n",
    "    df = df.loc[df.groupby(df['Date'].dt.to_period('m'))['Date'].idxmax()]\n",
    "    df = df.set_index(['Date']) # setting df index to Date column\n",
    "\n",
    "    try:\n",
    "        adjusted_close_series = df['AdjClose'] # getting the series with AdjClose column\n",
    "\n",
    "    except KeyError:\n",
    "        adjusted_close_series = df['Adj Close'] # getting the series with AdjClose column \n",
    "\n",
    "    adjusted_close_series.name = name\n",
    "    adjusted_close_list.append(adjusted_close_series) #appending to list\n",
    "\n",
    "    "
   ]
  },
  {
   "cell_type": "code",
   "execution_count": 6,
   "metadata": {},
   "outputs": [
    {
     "ename": "NameError",
     "evalue": "name 'adjusted_close_list' is not defined",
     "output_type": "error",
     "traceback": [
      "\u001b[1;31m---------------------------------------------------------------------------\u001b[0m",
      "\u001b[1;31mNameError\u001b[0m                                 Traceback (most recent call last)",
      "Input \u001b[1;32mIn [6]\u001b[0m, in \u001b[0;36m<cell line: 1>\u001b[1;34m()\u001b[0m\n\u001b[1;32m----> 1\u001b[0m \u001b[43madjusted_close_list\u001b[49m[\u001b[38;5;241m0\u001b[39m]\n",
      "\u001b[1;31mNameError\u001b[0m: name 'adjusted_close_list' is not defined"
     ]
    }
   ],
   "source": [
    "adjusted_close_list[0]"
   ]
  },
  {
   "cell_type": "code",
   "execution_count": null,
   "metadata": {},
   "outputs": [],
   "source": [
    "adjusted_close_list[1]\n"
   ]
  },
  {
   "cell_type": "code",
   "execution_count": null,
   "metadata": {},
   "outputs": [],
   "source": [
    "adjusted_close_list[2]"
   ]
  },
  {
   "cell_type": "code",
   "execution_count": null,
   "metadata": {},
   "outputs": [],
   "source": [
    "adjusted_close_list[3]"
   ]
  },
  {
   "cell_type": "markdown",
   "metadata": {},
   "source": [
    "# Autocorrelation function of the adjusted close for each stock closing price"
   ]
  },
  {
   "cell_type": "code",
   "execution_count": null,
   "metadata": {},
   "outputs": [],
   "source": [
    "import matplotlib.pyplot as plt\n",
    "\n",
    "for closing in adjusted_close_list:\n",
    "    x = pd.plotting.autocorrelation_plot(closing)\n",
    "    plt.ylabel(f'Autocorrelation from {closing.name}')\n",
    "    plt.show()\n",
    "    x.plot()"
   ]
  },
  {
   "cell_type": "markdown",
   "metadata": {},
   "source": [
    "# Shift trick to manually solve the returns and then showing the correlation function for each"
   ]
  },
  {
   "cell_type": "code",
   "execution_count": null,
   "metadata": {},
   "outputs": [],
   "source": [
    "stock_returns_list: List = []\n",
    "\n",
    "for df in df_list:\n",
    "    try:\n",
    "        closing = df['AdjClose']\n",
    "    except KeyError:\n",
    "        closing = df['Adj Close']\n",
    "    shifted_closing_price = closing.shift(1)\n",
    "    try:\n",
    "        dividend = df['ExDividend']\n",
    "    except KeyError:\n",
    "        dividend = 0\n",
    "    stock_return = ((closing + dividend)/ shifted_closing_price) - 1\n",
    "    stock_return = stock_return.fillna(0) # make sure no NaN value\n",
    "    stock_return.name = df.name\n",
    "    stock_returns_list.append(stock_return.fillna(0))\n",
    "\n",
    "    x = pd.plotting.autocorrelation_plot(stock_return)\n",
    "    plt.ylabel(f'Returns autocorrelation from {df.name}')\n",
    "    plt.show()\n",
    "    x.plot()"
   ]
  },
  {
   "cell_type": "markdown",
   "metadata": {},
   "source": [
    "# Combining returns into 1 dataframe and visualization using scatter plot"
   ]
  },
  {
   "cell_type": "code",
   "execution_count": null,
   "metadata": {},
   "outputs": [],
   "source": [
    "all_returns = pd.concat(stock_returns_list, axis = 1);\n",
    "scatter_matrix = pd.plotting.scatter_matrix(all_returns, figsize=[15,15]);\n",
    "\n",
    "# for ax in scatter_matrix.ravel():\n",
    "#     ax.set_xlabel(ax.get_xlabel(), fontsize = 12, rotation = 90);\n",
    "#     ax.set_ylabel(ax.get_ylabel(), fontsize = 12, rotation = 0);"
   ]
  },
  {
   "cell_type": "code",
   "execution_count": null,
   "metadata": {},
   "outputs": [],
   "source": []
  }
 ],
 "metadata": {
  "kernelspec": {
   "display_name": "Python 3 (ipykernel)",
   "language": "python",
   "name": "python3"
  },
  "language_info": {
   "codemirror_mode": {
    "name": "ipython",
    "version": 3
   },
   "file_extension": ".py",
   "mimetype": "text/x-python",
   "name": "python",
   "nbconvert_exporter": "python",
   "pygments_lexer": "ipython3",
   "version": "3.9.12"
  },
  "toc": {
   "base_numbering": 1,
   "nav_menu": {},
   "number_sections": false,
   "sideBar": true,
   "skip_h1_title": false,
   "title_cell": "Table of Contents",
   "title_sidebar": "Contents",
   "toc_cell": false,
   "toc_position": {},
   "toc_section_display": true,
   "toc_window_display": false
  }
 },
 "nbformat": 4,
 "nbformat_minor": 4
}
